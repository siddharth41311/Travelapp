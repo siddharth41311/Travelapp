{
 "cells": [
  {
   "cell_type": "code",
   "execution_count": 1,
   "id": "19a17ab0",
   "metadata": {},
   "outputs": [
    {
     "name": "stdout",
     "output_type": "stream",
     "text": [
      "Defaulting to user installation because normal site-packages is not writeable\n",
      "Requirement already satisfied: optuna in c:\\users\\hp\\appdata\\roaming\\python\\python311\\site-packages (4.2.0)\n",
      "Requirement already satisfied: alembic>=1.5.0 in c:\\users\\hp\\appdata\\roaming\\python\\python311\\site-packages (from optuna) (1.14.1)\n",
      "Requirement already satisfied: colorlog in c:\\users\\hp\\appdata\\roaming\\python\\python311\\site-packages (from optuna) (6.9.0)\n",
      "Requirement already satisfied: numpy in c:\\programdata\\anaconda3\\lib\\site-packages (from optuna) (1.24.3)\n",
      "Requirement already satisfied: packaging>=20.0 in c:\\users\\hp\\appdata\\roaming\\python\\python311\\site-packages (from optuna) (24.1)\n",
      "Requirement already satisfied: sqlalchemy>=1.4.2 in c:\\programdata\\anaconda3\\lib\\site-packages (from optuna) (1.4.39)\n",
      "Requirement already satisfied: tqdm in c:\\programdata\\anaconda3\\lib\\site-packages (from optuna) (4.65.0)\n",
      "Requirement already satisfied: PyYAML in c:\\programdata\\anaconda3\\lib\\site-packages (from optuna) (6.0)\n",
      "Requirement already satisfied: Mako in c:\\users\\hp\\appdata\\roaming\\python\\python311\\site-packages (from alembic>=1.5.0->optuna) (1.3.9)\n",
      "Requirement already satisfied: typing-extensions>=4 in c:\\users\\hp\\appdata\\roaming\\python\\python311\\site-packages (from alembic>=1.5.0->optuna) (4.12.2)\n",
      "Requirement already satisfied: greenlet!=0.4.17 in c:\\programdata\\anaconda3\\lib\\site-packages (from sqlalchemy>=1.4.2->optuna) (2.0.1)\n",
      "Requirement already satisfied: colorama in c:\\programdata\\anaconda3\\lib\\site-packages (from colorlog->optuna) (0.4.6)\n",
      "Requirement already satisfied: MarkupSafe>=0.9.2 in c:\\programdata\\anaconda3\\lib\\site-packages (from Mako->alembic>=1.5.0->optuna) (2.1.1)\n"
     ]
    },
    {
     "name": "stderr",
     "output_type": "stream",
     "text": [
      "WARNING: Ignoring invalid distribution ~ensorflow-intel (C:\\Users\\hp\\AppData\\Roaming\\Python\\Python311\\site-packages)\n",
      "WARNING: Ignoring invalid distribution ~ensorflow-intel (C:\\Users\\hp\\AppData\\Roaming\\Python\\Python311\\site-packages)\n",
      "WARNING: Ignoring invalid distribution ~ensorflow-intel (C:\\Users\\hp\\AppData\\Roaming\\Python\\Python311\\site-packages)\n",
      "\n",
      "[notice] A new release of pip is available: 24.3.1 -> 25.0.1\n",
      "[notice] To update, run: python.exe -m pip install --upgrade pip\n"
     ]
    }
   ],
   "source": [
    "!pip install optuna\n"
   ]
  },
  {
   "cell_type": "code",
   "execution_count": 2,
   "id": "3b57dc6d",
   "metadata": {},
   "outputs": [],
   "source": [
    "import numpy as np\n",
    "import pandas as pd\n",
    "from sklearn.pipeline import Pipeline\n",
    "from sklearn.impute import SimpleImputer\n",
    "from sklearn.preprocessing import StandardScaler, OneHotEncoder\n",
    "from sklearn.compose import ColumnTransformer \n",
    "from sklearn.model_selection import train_test_split, RandomizedSearchCV\n",
    "from sklearn.ensemble import RandomForestRegressor, GradientBoostingRegressor, StackingRegressor\n",
    "from xgboost import XGBRegressor\n",
    "import optuna\n",
    "from tensorflow.keras.models import Sequential\n",
    "from tensorflow.keras.layers import Dense, Dropout, BatchNormalization\n",
    "from tensorflow.keras.optimizers import Adam\n",
    "from tensorflow.keras.regularizers import l2\n",
    "from tensorflow.keras.callbacks import ReduceLROnPlateau, EarlyStopping\n",
    "from sklearn.metrics import mean_absolute_error, mean_squared_error, r2_score, classification_report, confusion_matrix\n",
    "import os\n",
    "from dotenv import load_dotenv\n",
    "from sqlalchemy import create_engine\n"
   ]
  },
  {
   "cell_type": "code",
   "execution_count": 3,
   "id": "bb0f637b",
   "metadata": {},
   "outputs": [],
   "source": [
    "hotel = pd.read_excel('HotelFINALdataset.xlsx')"
   ]
  },
  {
   "cell_type": "code",
   "execution_count": 4,
   "id": "826bfe03",
   "metadata": {},
   "outputs": [
    {
     "data": {
      "text/html": [
       "<div>\n",
       "<style scoped>\n",
       "    .dataframe tbody tr th:only-of-type {\n",
       "        vertical-align: middle;\n",
       "    }\n",
       "\n",
       "    .dataframe tbody tr th {\n",
       "        vertical-align: top;\n",
       "    }\n",
       "\n",
       "    .dataframe thead th {\n",
       "        text-align: right;\n",
       "    }\n",
       "</style>\n",
       "<table border=\"1\" class=\"dataframe\">\n",
       "  <thead>\n",
       "    <tr style=\"text-align: right;\">\n",
       "      <th></th>\n",
       "      <th>User_ID</th>\n",
       "      <th>travelCode</th>\n",
       "      <th>Hotel_Name</th>\n",
       "      <th>Arrival_place</th>\n",
       "      <th>Hotel_stay</th>\n",
       "      <th>Hotel_per_day_price</th>\n",
       "      <th>Check-in</th>\n",
       "      <th>Hotel_TotalPrice</th>\n",
       "    </tr>\n",
       "  </thead>\n",
       "  <tbody>\n",
       "    <tr>\n",
       "      <th>0</th>\n",
       "      <td>0</td>\n",
       "      <td>0</td>\n",
       "      <td>Hotel A</td>\n",
       "      <td>Florianopolis (SC)</td>\n",
       "      <td>4</td>\n",
       "      <td>313.02</td>\n",
       "      <td>09/26/2019</td>\n",
       "      <td>1252.08</td>\n",
       "    </tr>\n",
       "    <tr>\n",
       "      <th>1</th>\n",
       "      <td>0</td>\n",
       "      <td>2</td>\n",
       "      <td>Hotel K</td>\n",
       "      <td>Salvador (BH)</td>\n",
       "      <td>2</td>\n",
       "      <td>263.41</td>\n",
       "      <td>10/10/2019</td>\n",
       "      <td>526.82</td>\n",
       "    </tr>\n",
       "    <tr>\n",
       "      <th>2</th>\n",
       "      <td>0</td>\n",
       "      <td>7</td>\n",
       "      <td>Hotel K</td>\n",
       "      <td>Salvador (BH)</td>\n",
       "      <td>3</td>\n",
       "      <td>263.41</td>\n",
       "      <td>11/14/2019</td>\n",
       "      <td>790.23</td>\n",
       "    </tr>\n",
       "    <tr>\n",
       "      <th>3</th>\n",
       "      <td>0</td>\n",
       "      <td>11</td>\n",
       "      <td>Hotel K</td>\n",
       "      <td>Salvador (BH)</td>\n",
       "      <td>4</td>\n",
       "      <td>263.41</td>\n",
       "      <td>12/12/2019</td>\n",
       "      <td>1053.64</td>\n",
       "    </tr>\n",
       "    <tr>\n",
       "      <th>4</th>\n",
       "      <td>0</td>\n",
       "      <td>13</td>\n",
       "      <td>Hotel A</td>\n",
       "      <td>Florianopolis (SC)</td>\n",
       "      <td>1</td>\n",
       "      <td>313.02</td>\n",
       "      <td>12/26/2019</td>\n",
       "      <td>313.02</td>\n",
       "    </tr>\n",
       "  </tbody>\n",
       "</table>\n",
       "</div>"
      ],
      "text/plain": [
       "   User_ID  travelCode Hotel_Name       Arrival_place  Hotel_stay  \\\n",
       "0        0           0    Hotel A  Florianopolis (SC)           4   \n",
       "1        0           2    Hotel K       Salvador (BH)           2   \n",
       "2        0           7    Hotel K       Salvador (BH)           3   \n",
       "3        0          11    Hotel K       Salvador (BH)           4   \n",
       "4        0          13    Hotel A  Florianopolis (SC)           1   \n",
       "\n",
       "   Hotel_per_day_price    Check-in  Hotel_TotalPrice  \n",
       "0               313.02  09/26/2019           1252.08  \n",
       "1               263.41  10/10/2019            526.82  \n",
       "2               263.41  11/14/2019            790.23  \n",
       "3               263.41  12/12/2019           1053.64  \n",
       "4               313.02  12/26/2019            313.02  "
      ]
     },
     "execution_count": 4,
     "metadata": {},
     "output_type": "execute_result"
    }
   ],
   "source": [
    "hotel.head()"
   ]
  },
  {
   "cell_type": "code",
   "execution_count": 5,
   "id": "599d407b",
   "metadata": {},
   "outputs": [
    {
     "data": {
      "text/plain": [
       "9"
      ]
     },
     "execution_count": 5,
     "metadata": {},
     "output_type": "execute_result"
    }
   ],
   "source": [
    "hotel['Hotel_Name'].nunique()"
   ]
  },
  {
   "cell_type": "code",
   "execution_count": 6,
   "id": "08ca9706",
   "metadata": {},
   "outputs": [],
   "source": [
    "passengers = pd.read_excel('PassengerFINALdataset.xlsx')"
   ]
  },
  {
   "cell_type": "code",
   "execution_count": 7,
   "id": "34005bab",
   "metadata": {},
   "outputs": [
    {
     "data": {
      "text/html": [
       "<div>\n",
       "<style scoped>\n",
       "    .dataframe tbody tr th:only-of-type {\n",
       "        vertical-align: middle;\n",
       "    }\n",
       "\n",
       "    .dataframe tbody tr th {\n",
       "        vertical-align: top;\n",
       "    }\n",
       "\n",
       "    .dataframe thead th {\n",
       "        text-align: right;\n",
       "    }\n",
       "</style>\n",
       "<table border=\"1\" class=\"dataframe\">\n",
       "  <thead>\n",
       "    <tr style=\"text-align: right;\">\n",
       "      <th></th>\n",
       "      <th>User_ID</th>\n",
       "      <th>company</th>\n",
       "      <th>Name</th>\n",
       "      <th>gender_x</th>\n",
       "    </tr>\n",
       "  </thead>\n",
       "  <tbody>\n",
       "    <tr>\n",
       "      <th>0</th>\n",
       "      <td>0</td>\n",
       "      <td>4You</td>\n",
       "      <td>Roy Braun</td>\n",
       "      <td>male</td>\n",
       "    </tr>\n",
       "    <tr>\n",
       "      <th>1</th>\n",
       "      <td>1</td>\n",
       "      <td>4You</td>\n",
       "      <td>Joseph Holsten</td>\n",
       "      <td>male</td>\n",
       "    </tr>\n",
       "    <tr>\n",
       "      <th>2</th>\n",
       "      <td>2</td>\n",
       "      <td>4You</td>\n",
       "      <td>Wilma Mcinnis</td>\n",
       "      <td>female</td>\n",
       "    </tr>\n",
       "    <tr>\n",
       "      <th>3</th>\n",
       "      <td>3</td>\n",
       "      <td>4You</td>\n",
       "      <td>Paula Daniel</td>\n",
       "      <td>female</td>\n",
       "    </tr>\n",
       "    <tr>\n",
       "      <th>4</th>\n",
       "      <td>4</td>\n",
       "      <td>4You</td>\n",
       "      <td>Patricia Carson</td>\n",
       "      <td>female</td>\n",
       "    </tr>\n",
       "  </tbody>\n",
       "</table>\n",
       "</div>"
      ],
      "text/plain": [
       "   User_ID company             Name gender_x\n",
       "0        0    4You        Roy Braun     male\n",
       "1        1    4You   Joseph Holsten     male\n",
       "2        2    4You    Wilma Mcinnis   female\n",
       "3        3    4You     Paula Daniel   female\n",
       "4        4    4You  Patricia Carson   female"
      ]
     },
     "execution_count": 7,
     "metadata": {},
     "output_type": "execute_result"
    }
   ],
   "source": [
    "passengers.head()"
   ]
  },
  {
   "cell_type": "code",
   "execution_count": 8,
   "id": "4aa144df",
   "metadata": {},
   "outputs": [],
   "source": [
    "hotel = pd.merge(hotel,passengers,how='inner',on='User_ID')"
   ]
  },
  {
   "cell_type": "code",
   "execution_count": 9,
   "id": "09ed5fc4",
   "metadata": {},
   "outputs": [
    {
     "data": {
      "text/html": [
       "<div>\n",
       "<style scoped>\n",
       "    .dataframe tbody tr th:only-of-type {\n",
       "        vertical-align: middle;\n",
       "    }\n",
       "\n",
       "    .dataframe tbody tr th {\n",
       "        vertical-align: top;\n",
       "    }\n",
       "\n",
       "    .dataframe thead th {\n",
       "        text-align: right;\n",
       "    }\n",
       "</style>\n",
       "<table border=\"1\" class=\"dataframe\">\n",
       "  <thead>\n",
       "    <tr style=\"text-align: right;\">\n",
       "      <th></th>\n",
       "      <th>User_ID</th>\n",
       "      <th>travelCode</th>\n",
       "      <th>Hotel_Name</th>\n",
       "      <th>Arrival_place</th>\n",
       "      <th>Hotel_stay</th>\n",
       "      <th>Hotel_per_day_price</th>\n",
       "      <th>Check-in</th>\n",
       "      <th>Hotel_TotalPrice</th>\n",
       "      <th>company</th>\n",
       "      <th>Name</th>\n",
       "      <th>gender_x</th>\n",
       "    </tr>\n",
       "  </thead>\n",
       "  <tbody>\n",
       "    <tr>\n",
       "      <th>0</th>\n",
       "      <td>0</td>\n",
       "      <td>0</td>\n",
       "      <td>Hotel A</td>\n",
       "      <td>Florianopolis (SC)</td>\n",
       "      <td>4</td>\n",
       "      <td>313.02</td>\n",
       "      <td>09/26/2019</td>\n",
       "      <td>1252.08</td>\n",
       "      <td>4You</td>\n",
       "      <td>Roy Braun</td>\n",
       "      <td>male</td>\n",
       "    </tr>\n",
       "    <tr>\n",
       "      <th>1</th>\n",
       "      <td>0</td>\n",
       "      <td>2</td>\n",
       "      <td>Hotel K</td>\n",
       "      <td>Salvador (BH)</td>\n",
       "      <td>2</td>\n",
       "      <td>263.41</td>\n",
       "      <td>10/10/2019</td>\n",
       "      <td>526.82</td>\n",
       "      <td>4You</td>\n",
       "      <td>Roy Braun</td>\n",
       "      <td>male</td>\n",
       "    </tr>\n",
       "    <tr>\n",
       "      <th>2</th>\n",
       "      <td>0</td>\n",
       "      <td>7</td>\n",
       "      <td>Hotel K</td>\n",
       "      <td>Salvador (BH)</td>\n",
       "      <td>3</td>\n",
       "      <td>263.41</td>\n",
       "      <td>11/14/2019</td>\n",
       "      <td>790.23</td>\n",
       "      <td>4You</td>\n",
       "      <td>Roy Braun</td>\n",
       "      <td>male</td>\n",
       "    </tr>\n",
       "    <tr>\n",
       "      <th>3</th>\n",
       "      <td>0</td>\n",
       "      <td>11</td>\n",
       "      <td>Hotel K</td>\n",
       "      <td>Salvador (BH)</td>\n",
       "      <td>4</td>\n",
       "      <td>263.41</td>\n",
       "      <td>12/12/2019</td>\n",
       "      <td>1053.64</td>\n",
       "      <td>4You</td>\n",
       "      <td>Roy Braun</td>\n",
       "      <td>male</td>\n",
       "    </tr>\n",
       "    <tr>\n",
       "      <th>4</th>\n",
       "      <td>0</td>\n",
       "      <td>13</td>\n",
       "      <td>Hotel A</td>\n",
       "      <td>Florianopolis (SC)</td>\n",
       "      <td>1</td>\n",
       "      <td>313.02</td>\n",
       "      <td>12/26/2019</td>\n",
       "      <td>313.02</td>\n",
       "      <td>4You</td>\n",
       "      <td>Roy Braun</td>\n",
       "      <td>male</td>\n",
       "    </tr>\n",
       "  </tbody>\n",
       "</table>\n",
       "</div>"
      ],
      "text/plain": [
       "   User_ID  travelCode Hotel_Name       Arrival_place  Hotel_stay  \\\n",
       "0        0           0    Hotel A  Florianopolis (SC)           4   \n",
       "1        0           2    Hotel K       Salvador (BH)           2   \n",
       "2        0           7    Hotel K       Salvador (BH)           3   \n",
       "3        0          11    Hotel K       Salvador (BH)           4   \n",
       "4        0          13    Hotel A  Florianopolis (SC)           1   \n",
       "\n",
       "   Hotel_per_day_price    Check-in  Hotel_TotalPrice company       Name  \\\n",
       "0               313.02  09/26/2019           1252.08    4You  Roy Braun   \n",
       "1               263.41  10/10/2019            526.82    4You  Roy Braun   \n",
       "2               263.41  11/14/2019            790.23    4You  Roy Braun   \n",
       "3               263.41  12/12/2019           1053.64    4You  Roy Braun   \n",
       "4               313.02  12/26/2019            313.02    4You  Roy Braun   \n",
       "\n",
       "  gender_x  \n",
       "0     male  \n",
       "1     male  \n",
       "2     male  \n",
       "3     male  \n",
       "4     male  "
      ]
     },
     "execution_count": 9,
     "metadata": {},
     "output_type": "execute_result"
    }
   ],
   "source": [
    "hotel.head()"
   ]
  },
  {
   "cell_type": "code",
   "execution_count": 10,
   "id": "cab6cdf1",
   "metadata": {},
   "outputs": [],
   "source": [
    "hotel.drop(['User_ID','travelCode','Name'],axis=1,inplace=True)"
   ]
  },
  {
   "cell_type": "code",
   "execution_count": 11,
   "id": "7905c67d",
   "metadata": {},
   "outputs": [],
   "source": [
    "hotel['Hotel_Check-in'] = pd.to_datetime(hotel['Check-in'])"
   ]
  },
  {
   "cell_type": "code",
   "execution_count": 12,
   "id": "ea242149",
   "metadata": {},
   "outputs": [
    {
     "data": {
      "text/plain": [
       "array(['Florianopolis (SC)', 'Salvador (BH)', 'Natal (RN)',\n",
       "       'Aracaju (SE)', 'Recife (PE)', 'Sao Paulo (SP)',\n",
       "       'Campo Grande (MS)', 'Rio de Janeiro (RJ)', 'Brasilia (DF)'],\n",
       "      dtype=object)"
      ]
     },
     "execution_count": 12,
     "metadata": {},
     "output_type": "execute_result"
    }
   ],
   "source": [
    "hotel['Arrival_place'].unique()"
   ]
  },
  {
   "cell_type": "code",
   "execution_count": 13,
   "id": "b3c38233",
   "metadata": {},
   "outputs": [
    {
     "data": {
      "text/html": [
       "<div>\n",
       "<style scoped>\n",
       "    .dataframe tbody tr th:only-of-type {\n",
       "        vertical-align: middle;\n",
       "    }\n",
       "\n",
       "    .dataframe tbody tr th {\n",
       "        vertical-align: top;\n",
       "    }\n",
       "\n",
       "    .dataframe thead th {\n",
       "        text-align: right;\n",
       "    }\n",
       "</style>\n",
       "<table border=\"1\" class=\"dataframe\">\n",
       "  <thead>\n",
       "    <tr style=\"text-align: right;\">\n",
       "      <th></th>\n",
       "      <th>Hotel_Name</th>\n",
       "      <th>Arrival_place</th>\n",
       "      <th>Hotel_stay</th>\n",
       "      <th>Hotel_per_day_price</th>\n",
       "      <th>Check-in</th>\n",
       "      <th>Hotel_TotalPrice</th>\n",
       "      <th>company</th>\n",
       "      <th>gender_x</th>\n",
       "      <th>Hotel_Check-in</th>\n",
       "    </tr>\n",
       "  </thead>\n",
       "  <tbody>\n",
       "    <tr>\n",
       "      <th>0</th>\n",
       "      <td>Hotel A</td>\n",
       "      <td>Florianopolis (SC)</td>\n",
       "      <td>4</td>\n",
       "      <td>313.02</td>\n",
       "      <td>09/26/2019</td>\n",
       "      <td>1252.08</td>\n",
       "      <td>4You</td>\n",
       "      <td>male</td>\n",
       "      <td>2019-09-26</td>\n",
       "    </tr>\n",
       "    <tr>\n",
       "      <th>1</th>\n",
       "      <td>Hotel K</td>\n",
       "      <td>Salvador (BH)</td>\n",
       "      <td>2</td>\n",
       "      <td>263.41</td>\n",
       "      <td>10/10/2019</td>\n",
       "      <td>526.82</td>\n",
       "      <td>4You</td>\n",
       "      <td>male</td>\n",
       "      <td>2019-10-10</td>\n",
       "    </tr>\n",
       "    <tr>\n",
       "      <th>2</th>\n",
       "      <td>Hotel K</td>\n",
       "      <td>Salvador (BH)</td>\n",
       "      <td>3</td>\n",
       "      <td>263.41</td>\n",
       "      <td>11/14/2019</td>\n",
       "      <td>790.23</td>\n",
       "      <td>4You</td>\n",
       "      <td>male</td>\n",
       "      <td>2019-11-14</td>\n",
       "    </tr>\n",
       "    <tr>\n",
       "      <th>3</th>\n",
       "      <td>Hotel K</td>\n",
       "      <td>Salvador (BH)</td>\n",
       "      <td>4</td>\n",
       "      <td>263.41</td>\n",
       "      <td>12/12/2019</td>\n",
       "      <td>1053.64</td>\n",
       "      <td>4You</td>\n",
       "      <td>male</td>\n",
       "      <td>2019-12-12</td>\n",
       "    </tr>\n",
       "    <tr>\n",
       "      <th>4</th>\n",
       "      <td>Hotel A</td>\n",
       "      <td>Florianopolis (SC)</td>\n",
       "      <td>1</td>\n",
       "      <td>313.02</td>\n",
       "      <td>12/26/2019</td>\n",
       "      <td>313.02</td>\n",
       "      <td>4You</td>\n",
       "      <td>male</td>\n",
       "      <td>2019-12-26</td>\n",
       "    </tr>\n",
       "  </tbody>\n",
       "</table>\n",
       "</div>"
      ],
      "text/plain": [
       "  Hotel_Name       Arrival_place  Hotel_stay  Hotel_per_day_price    Check-in  \\\n",
       "0    Hotel A  Florianopolis (SC)           4               313.02  09/26/2019   \n",
       "1    Hotel K       Salvador (BH)           2               263.41  10/10/2019   \n",
       "2    Hotel K       Salvador (BH)           3               263.41  11/14/2019   \n",
       "3    Hotel K       Salvador (BH)           4               263.41  12/12/2019   \n",
       "4    Hotel A  Florianopolis (SC)           1               313.02  12/26/2019   \n",
       "\n",
       "   Hotel_TotalPrice company gender_x Hotel_Check-in  \n",
       "0           1252.08    4You     male     2019-09-26  \n",
       "1            526.82    4You     male     2019-10-10  \n",
       "2            790.23    4You     male     2019-11-14  \n",
       "3           1053.64    4You     male     2019-12-12  \n",
       "4            313.02    4You     male     2019-12-26  "
      ]
     },
     "execution_count": 13,
     "metadata": {},
     "output_type": "execute_result"
    }
   ],
   "source": [
    "hotel.head()"
   ]
  },
  {
   "cell_type": "code",
   "execution_count": 14,
   "id": "331221dc",
   "metadata": {},
   "outputs": [
    {
     "name": "stderr",
     "output_type": "stream",
     "text": [
      "C:\\Users\\hp\\AppData\\Local\\Temp\\ipykernel_33016\\3269396487.py:1: FutureWarning: The default value of numeric_only in DataFrame.corr is deprecated. In a future version, it will default to False. Select only valid columns or specify the value of numeric_only to silence this warning.\n",
      "  hotel.corr()['Hotel_TotalPrice']\n"
     ]
    },
    {
     "data": {
      "text/plain": [
       "Hotel_stay             0.75285\n",
       "Hotel_per_day_price    0.60273\n",
       "Hotel_TotalPrice       1.00000\n",
       "Name: Hotel_TotalPrice, dtype: float64"
      ]
     },
     "execution_count": 14,
     "metadata": {},
     "output_type": "execute_result"
    }
   ],
   "source": [
    "hotel.corr()['Hotel_TotalPrice']"
   ]
  },
  {
   "cell_type": "code",
   "execution_count": 15,
   "id": "39d3574c",
   "metadata": {},
   "outputs": [],
   "source": [
    "hotel[\"Weekend_Checkin\"] = (hotel['Hotel_Check-in'].dt.weekday >= 5 ).astype(int)"
   ]
  },
  {
   "cell_type": "code",
   "execution_count": 16,
   "id": "44b6276b",
   "metadata": {},
   "outputs": [],
   "source": [
    "hotel['Month_Checkin'] = hotel['Hotel_Check-in'].dt.month "
   ]
  },
  {
   "cell_type": "code",
   "execution_count": 17,
   "id": "5fa3b762",
   "metadata": {},
   "outputs": [],
   "source": [
    "#hotel.drop(['company'],axis=1,inplace=True)"
   ]
  },
  {
   "cell_type": "code",
   "execution_count": 18,
   "id": "daddeb9f",
   "metadata": {},
   "outputs": [],
   "source": [
    "hotel.drop(['Check-in'],axis=1,inplace=True)"
   ]
  },
  {
   "cell_type": "code",
   "execution_count": 19,
   "id": "fa863631",
   "metadata": {},
   "outputs": [
    {
     "data": {
      "text/html": [
       "<div>\n",
       "<style scoped>\n",
       "    .dataframe tbody tr th:only-of-type {\n",
       "        vertical-align: middle;\n",
       "    }\n",
       "\n",
       "    .dataframe tbody tr th {\n",
       "        vertical-align: top;\n",
       "    }\n",
       "\n",
       "    .dataframe thead th {\n",
       "        text-align: right;\n",
       "    }\n",
       "</style>\n",
       "<table border=\"1\" class=\"dataframe\">\n",
       "  <thead>\n",
       "    <tr style=\"text-align: right;\">\n",
       "      <th></th>\n",
       "      <th>Hotel_Name</th>\n",
       "      <th>Arrival_place</th>\n",
       "      <th>Hotel_stay</th>\n",
       "      <th>Hotel_per_day_price</th>\n",
       "      <th>Hotel_TotalPrice</th>\n",
       "      <th>company</th>\n",
       "      <th>gender_x</th>\n",
       "      <th>Hotel_Check-in</th>\n",
       "      <th>Weekend_Checkin</th>\n",
       "      <th>Month_Checkin</th>\n",
       "    </tr>\n",
       "  </thead>\n",
       "  <tbody>\n",
       "    <tr>\n",
       "      <th>0</th>\n",
       "      <td>Hotel A</td>\n",
       "      <td>Florianopolis (SC)</td>\n",
       "      <td>4</td>\n",
       "      <td>313.02</td>\n",
       "      <td>1252.08</td>\n",
       "      <td>4You</td>\n",
       "      <td>male</td>\n",
       "      <td>2019-09-26</td>\n",
       "      <td>0</td>\n",
       "      <td>9</td>\n",
       "    </tr>\n",
       "    <tr>\n",
       "      <th>1</th>\n",
       "      <td>Hotel K</td>\n",
       "      <td>Salvador (BH)</td>\n",
       "      <td>2</td>\n",
       "      <td>263.41</td>\n",
       "      <td>526.82</td>\n",
       "      <td>4You</td>\n",
       "      <td>male</td>\n",
       "      <td>2019-10-10</td>\n",
       "      <td>0</td>\n",
       "      <td>10</td>\n",
       "    </tr>\n",
       "    <tr>\n",
       "      <th>2</th>\n",
       "      <td>Hotel K</td>\n",
       "      <td>Salvador (BH)</td>\n",
       "      <td>3</td>\n",
       "      <td>263.41</td>\n",
       "      <td>790.23</td>\n",
       "      <td>4You</td>\n",
       "      <td>male</td>\n",
       "      <td>2019-11-14</td>\n",
       "      <td>0</td>\n",
       "      <td>11</td>\n",
       "    </tr>\n",
       "    <tr>\n",
       "      <th>3</th>\n",
       "      <td>Hotel K</td>\n",
       "      <td>Salvador (BH)</td>\n",
       "      <td>4</td>\n",
       "      <td>263.41</td>\n",
       "      <td>1053.64</td>\n",
       "      <td>4You</td>\n",
       "      <td>male</td>\n",
       "      <td>2019-12-12</td>\n",
       "      <td>0</td>\n",
       "      <td>12</td>\n",
       "    </tr>\n",
       "    <tr>\n",
       "      <th>4</th>\n",
       "      <td>Hotel A</td>\n",
       "      <td>Florianopolis (SC)</td>\n",
       "      <td>1</td>\n",
       "      <td>313.02</td>\n",
       "      <td>313.02</td>\n",
       "      <td>4You</td>\n",
       "      <td>male</td>\n",
       "      <td>2019-12-26</td>\n",
       "      <td>0</td>\n",
       "      <td>12</td>\n",
       "    </tr>\n",
       "  </tbody>\n",
       "</table>\n",
       "</div>"
      ],
      "text/plain": [
       "  Hotel_Name       Arrival_place  Hotel_stay  Hotel_per_day_price  \\\n",
       "0    Hotel A  Florianopolis (SC)           4               313.02   \n",
       "1    Hotel K       Salvador (BH)           2               263.41   \n",
       "2    Hotel K       Salvador (BH)           3               263.41   \n",
       "3    Hotel K       Salvador (BH)           4               263.41   \n",
       "4    Hotel A  Florianopolis (SC)           1               313.02   \n",
       "\n",
       "   Hotel_TotalPrice company gender_x Hotel_Check-in  Weekend_Checkin  \\\n",
       "0           1252.08    4You     male     2019-09-26                0   \n",
       "1            526.82    4You     male     2019-10-10                0   \n",
       "2            790.23    4You     male     2019-11-14                0   \n",
       "3           1053.64    4You     male     2019-12-12                0   \n",
       "4            313.02    4You     male     2019-12-26                0   \n",
       "\n",
       "   Month_Checkin  \n",
       "0              9  \n",
       "1             10  \n",
       "2             11  \n",
       "3             12  \n",
       "4             12  "
      ]
     },
     "execution_count": 19,
     "metadata": {},
     "output_type": "execute_result"
    }
   ],
   "source": [
    "hotel.head()"
   ]
  },
  {
   "cell_type": "code",
   "execution_count": 20,
   "id": "1b069ebf",
   "metadata": {},
   "outputs": [],
   "source": [
    "hotel1 = hotel.copy(deep=True)"
   ]
  },
  {
   "cell_type": "code",
   "execution_count": 21,
   "id": "0d5d098c",
   "metadata": {},
   "outputs": [],
   "source": [
    "#hotel = hotel1.copy(deep=True)"
   ]
  },
  {
   "cell_type": "code",
   "execution_count": 23,
   "id": "8b0b794d",
   "metadata": {},
   "outputs": [],
   "source": [
    "X = hotel.drop('Hotel_TotalPrice',axis=1)\n",
    "y = hotel['Hotel_TotalPrice']"
   ]
  },
  {
   "cell_type": "code",
   "execution_count": 24,
   "id": "8fc5bef5",
   "metadata": {},
   "outputs": [],
   "source": [
    "#Preprocessing Pipeline Gemeration\n",
    "num_features = X.select_dtypes(include=['int64','float64']).columns\n",
    "cat_features = X.select_dtypes(include=['object']).columns"
   ]
  },
  {
   "cell_type": "code",
   "execution_count": 25,
   "id": "b966f10a",
   "metadata": {},
   "outputs": [],
   "source": [
    "num_transformer = Pipeline([('imputer',SimpleImputer(strategy='median')),\n",
    "                           ('scaler',StandardScaler())])"
   ]
  },
  {
   "cell_type": "code",
   "execution_count": 26,
   "id": "1247055e",
   "metadata": {},
   "outputs": [],
   "source": [
    "cat_transformer = Pipeline([('imputer',SimpleImputer(strategy='most_frequent')),\n",
    "                           ('onehot',OneHotEncoder(handle_unknown='ignore',sparse_output=False))])"
   ]
  },
  {
   "cell_type": "code",
   "execution_count": 27,
   "id": "3a7ce911",
   "metadata": {},
   "outputs": [],
   "source": [
    "preprocessor = ColumnTransformer([\n",
    "    ('num',num_transformer,num_features),\n",
    "    ('cat',cat_transformer,cat_features)\n",
    "])"
   ]
  },
  {
   "cell_type": "code",
   "execution_count": 28,
   "id": "04462500",
   "metadata": {},
   "outputs": [],
   "source": [
    "X_transformed = preprocessor.fit_transform(X)"
   ]
  },
  {
   "cell_type": "code",
   "execution_count": 29,
   "id": "b7a6bfbe",
   "metadata": {},
   "outputs": [],
   "source": [
    "X_train,X_test,y_train,y_test = train_test_split(X_transformed,y,test_size=0.2,random_state=42)"
   ]
  },
  {
   "cell_type": "code",
   "execution_count": 30,
   "id": "25c4ef75",
   "metadata": {},
   "outputs": [],
   "source": [
    "# Hyperparameter Optimization\n",
    "def objective(trial):\n",
    "    model = XGBRegressor(\n",
    "        n_estimators=trial.suggest_int('n_estimators', 100, 500),\n",
    "        learning_rate=trial.suggest_float('learning_rate', 0.01, 0.2),\n",
    "        max_depth=trial.suggest_int('max_depth', 3, 10),\n",
    "        subsample=trial.suggest_float('subsample', 0.5, 1.0),\n",
    "        colsample_bytree=trial.suggest_float('colsample_bytree', 0.5, 1.0),\n",
    "        random_state=42\n",
    "    )\n",
    "    model.fit(X_train, y_train)\n",
    "    y_pred = model.predict(X_test)\n",
    "    return mean_squared_error(y_test, y_pred)\n"
   ]
  },
  {
   "cell_type": "code",
   "execution_count": 31,
   "id": "1c26bb02",
   "metadata": {},
   "outputs": [
    {
     "name": "stderr",
     "output_type": "stream",
     "text": [
      "[I 2025-02-11 11:57:31,358] A new study created in memory with name: no-name-0d89d95e-a05b-4517-a541-ff9130de5bd2\n",
      "[I 2025-02-11 11:57:32,055] Trial 0 finished with value: 657.5165302182239 and parameters: {'n_estimators': 131, 'learning_rate': 0.028051147569337, 'max_depth': 3, 'subsample': 0.6140682130909718, 'colsample_bytree': 0.731316693517617}. Best is trial 0 with value: 657.5165302182239.\n",
      "[I 2025-02-11 11:57:33,071] Trial 1 finished with value: 0.010804365222498087 and parameters: {'n_estimators': 230, 'learning_rate': 0.157705998669277, 'max_depth': 4, 'subsample': 0.5236129816836199, 'colsample_bytree': 0.7385905243673041}. Best is trial 1 with value: 0.010804365222498087.\n",
      "[I 2025-02-11 11:57:34,885] Trial 2 finished with value: 0.02060471003788778 and parameters: {'n_estimators': 488, 'learning_rate': 0.19488992523438378, 'max_depth': 3, 'subsample': 0.5711489994830233, 'colsample_bytree': 0.5428478942717634}. Best is trial 1 with value: 0.010804365222498087.\n",
      "[I 2025-02-11 11:57:37,012] Trial 3 finished with value: 0.3211296266208204 and parameters: {'n_estimators': 253, 'learning_rate': 0.07548752410003359, 'max_depth': 8, 'subsample': 0.7923573118291709, 'colsample_bytree': 0.8434939655522}. Best is trial 1 with value: 0.010804365222498087.\n",
      "[I 2025-02-11 11:57:38,453] Trial 4 finished with value: 0.10663539948427912 and parameters: {'n_estimators': 315, 'learning_rate': 0.09134111952431653, 'max_depth': 4, 'subsample': 0.8820457612337547, 'colsample_bytree': 0.5322051200395563}. Best is trial 1 with value: 0.010804365222498087.\n",
      "[I 2025-02-11 11:57:40,605] Trial 5 finished with value: 0.18528564548978246 and parameters: {'n_estimators': 248, 'learning_rate': 0.13479582979922838, 'max_depth': 8, 'subsample': 0.6809343562511028, 'colsample_bytree': 0.728954033523225}. Best is trial 1 with value: 0.010804365222498087.\n",
      "[I 2025-02-11 11:57:45,019] Trial 6 finished with value: 0.13598258254502527 and parameters: {'n_estimators': 384, 'learning_rate': 0.1882915895165302, 'max_depth': 9, 'subsample': 0.7233972349412764, 'colsample_bytree': 0.8252666238630975}. Best is trial 1 with value: 0.010804365222498087.\n",
      "[I 2025-02-11 11:57:48,045] Trial 7 finished with value: 0.09413149649489735 and parameters: {'n_estimators': 305, 'learning_rate': 0.07489299383574606, 'max_depth': 6, 'subsample': 0.7792280787083772, 'colsample_bytree': 0.8606060321395873}. Best is trial 1 with value: 0.010804365222498087.\n",
      "[I 2025-02-11 11:57:48,706] Trial 8 finished with value: 7.030637434917571 and parameters: {'n_estimators': 140, 'learning_rate': 0.07277472553599773, 'max_depth': 3, 'subsample': 0.5234546028563114, 'colsample_bytree': 0.779249789401645}. Best is trial 1 with value: 0.010804365222498087.\n",
      "[I 2025-02-11 11:57:50,372] Trial 9 finished with value: 1.1961760495507308 and parameters: {'n_estimators': 415, 'learning_rate': 0.04207963959357398, 'max_depth': 3, 'subsample': 0.5840131578355676, 'colsample_bytree': 0.6329268736333137}. Best is trial 1 with value: 0.010804365222498087.\n",
      "[I 2025-02-11 11:57:51,628] Trial 10 finished with value: 3.939452316530593e-07 and parameters: {'n_estimators': 200, 'learning_rate': 0.14748067519295485, 'max_depth': 5, 'subsample': 0.9977243897919721, 'colsample_bytree': 0.9791732755063289}. Best is trial 10 with value: 3.939452316530593e-07.\n",
      "[I 2025-02-11 11:57:52,827] Trial 11 finished with value: 0.10132963439880398 and parameters: {'n_estimators': 200, 'learning_rate': 0.1445807740921651, 'max_depth': 5, 'subsample': 0.9975825142743062, 'colsample_bytree': 0.6606221064493634}. Best is trial 10 with value: 3.939452316530593e-07.\n",
      "[I 2025-02-11 11:57:54,076] Trial 12 finished with value: 3.977018849071678e-07 and parameters: {'n_estimators': 202, 'learning_rate': 0.15207743085338674, 'max_depth': 5, 'subsample': 0.9712161824507894, 'colsample_bytree': 0.9996943511372014}. Best is trial 10 with value: 3.939452316530593e-07.\n",
      "[I 2025-02-11 11:57:55,413] Trial 13 finished with value: 3.6150519845562916e-05 and parameters: {'n_estimators': 174, 'learning_rate': 0.1175753074797207, 'max_depth': 6, 'subsample': 0.9956568261755161, 'colsample_bytree': 0.9983128290618285}. Best is trial 10 with value: 3.939452316530593e-07.\n",
      "[I 2025-02-11 11:57:56,528] Trial 14 finished with value: 1.8882963440224348e-07 and parameters: {'n_estimators': 190, 'learning_rate': 0.16850211111639268, 'max_depth': 5, 'subsample': 0.909950266266631, 'colsample_bytree': 0.9834431082253259}. Best is trial 14 with value: 1.8882963440224348e-07.\n",
      "[I 2025-02-11 11:57:57,424] Trial 15 finished with value: 0.1588047441718769 and parameters: {'n_estimators': 108, 'learning_rate': 0.17313141741749186, 'max_depth': 7, 'subsample': 0.8855400604264334, 'colsample_bytree': 0.9186887363081894}. Best is trial 14 with value: 1.8882963440224348e-07.\n",
      "[I 2025-02-11 11:57:59,016] Trial 16 finished with value: 0.007347434129360291 and parameters: {'n_estimators': 279, 'learning_rate': 0.12221467256096197, 'max_depth': 5, 'subsample': 0.8989949983677612, 'colsample_bytree': 0.9290509209224378}. Best is trial 14 with value: 1.8882963440224348e-07.\n",
      "[I 2025-02-11 11:58:01,690] Trial 17 finished with value: 0.4356311828306424 and parameters: {'n_estimators': 169, 'learning_rate': 0.1722259599384458, 'max_depth': 10, 'subsample': 0.9309440383294982, 'colsample_bytree': 0.9252092217560868}. Best is trial 14 with value: 1.8882963440224348e-07.\n",
      "[I 2025-02-11 11:58:04,317] Trial 18 finished with value: 0.0009074996647631451 and parameters: {'n_estimators': 359, 'learning_rate': 0.10029793450091104, 'max_depth': 7, 'subsample': 0.8514334374118457, 'colsample_bytree': 0.9476108428060616}. Best is trial 14 with value: 1.8882963440224348e-07.\n",
      "[I 2025-02-11 11:58:05,330] Trial 19 finished with value: 0.0008096895606195716 and parameters: {'n_estimators': 203, 'learning_rate': 0.1775366438025295, 'max_depth': 4, 'subsample': 0.8188464679221937, 'colsample_bytree': 0.8771839929662053}. Best is trial 14 with value: 1.8882963440224348e-07.\n",
      "[I 2025-02-11 11:58:06,414] Trial 20 finished with value: 2.7856527161041913e-05 and parameters: {'n_estimators': 153, 'learning_rate': 0.12436383088033624, 'max_depth': 6, 'subsample': 0.9479109973271164, 'colsample_bytree': 0.9667541392121761}. Best is trial 14 with value: 1.8882963440224348e-07.\n",
      "[I 2025-02-11 11:58:07,683] Trial 21 finished with value: 4.564266685366018e-07 and parameters: {'n_estimators': 213, 'learning_rate': 0.15281540778239713, 'max_depth': 5, 'subsample': 0.9426706724363018, 'colsample_bytree': 0.9999728654188145}. Best is trial 14 with value: 1.8882963440224348e-07.\n",
      "[I 2025-02-11 11:58:09,148] Trial 22 finished with value: 0.005103053019959192 and parameters: {'n_estimators': 269, 'learning_rate': 0.16375963142449038, 'max_depth': 5, 'subsample': 0.9652601864959054, 'colsample_bytree': 0.89141540489229}. Best is trial 14 with value: 1.8882963440224348e-07.\n",
      "[I 2025-02-11 11:58:09,759] Trial 23 finished with value: 0.0035920783648343804 and parameters: {'n_estimators': 102, 'learning_rate': 0.14403433036582597, 'max_depth': 4, 'subsample': 0.9077312772339767, 'colsample_bytree': 0.9716420155750584}. Best is trial 14 with value: 1.8882963440224348e-07.\n",
      "[I 2025-02-11 11:58:10,830] Trial 24 finished with value: 0.010187894195749773 and parameters: {'n_estimators': 180, 'learning_rate': 0.19980514431798158, 'max_depth': 5, 'subsample': 0.8516061135334583, 'colsample_bytree': 0.7983767477043486}. Best is trial 14 with value: 1.8882963440224348e-07.\n",
      "[I 2025-02-11 11:58:13,309] Trial 25 finished with value: 0.009139911403432366 and parameters: {'n_estimators': 331, 'learning_rate': 0.13776538811630887, 'max_depth': 6, 'subsample': 0.9736135233824196, 'colsample_bytree': 0.905221142612584}. Best is trial 14 with value: 1.8882963440224348e-07.\n",
      "[I 2025-02-11 11:58:14,977] Trial 26 finished with value: 0.0004035258757788424 and parameters: {'n_estimators': 210, 'learning_rate': 0.15658990834428668, 'max_depth': 7, 'subsample': 0.9285778444141424, 'colsample_bytree': 0.9617746875475711}. Best is trial 14 with value: 1.8882963440224348e-07.\n",
      "[I 2025-02-11 11:58:16,128] Trial 27 finished with value: 1.803410968186297e-07 and parameters: {'n_estimators': 236, 'learning_rate': 0.17877932495311963, 'max_depth': 4, 'subsample': 0.8430788997056576, 'colsample_bytree': 0.9988622389801266}. Best is trial 27 with value: 1.803410968186297e-07.\n"
     ]
    },
    {
     "name": "stderr",
     "output_type": "stream",
     "text": [
      "[I 2025-02-11 11:58:17,416] Trial 28 finished with value: 8.066875830381752e-06 and parameters: {'n_estimators': 273, 'learning_rate': 0.18017207685228337, 'max_depth': 4, 'subsample': 0.8418666260080793, 'colsample_bytree': 0.9517219354579345}. Best is trial 27 with value: 1.803410968186297e-07.\n",
      "[I 2025-02-11 11:58:18,090] Trial 29 finished with value: 5843.554959141459 and parameters: {'n_estimators': 136, 'learning_rate': 0.013432868865321843, 'max_depth': 3, 'subsample': 0.7150657744444087, 'colsample_bytree': 0.8962137595522722}. Best is trial 27 with value: 1.803410968186297e-07.\n"
     ]
    }
   ],
   "source": [
    "study = optuna.create_study(direction='minimize')\n",
    "study.optimize(objective, n_trials=30)\n",
    "best_params = study.best_params\n"
   ]
  },
  {
   "cell_type": "code",
   "execution_count": 32,
   "id": "ed6d8370",
   "metadata": {},
   "outputs": [],
   "source": [
    "best_xgb = XGBRegressor(**best_params)\n",
    "best_xgb.fit(X_train, y_train)\n",
    "y_pred_xgb = best_xgb.predict(X_test)\n",
    "\n"
   ]
  },
  {
   "cell_type": "code",
   "execution_count": 33,
   "id": "c45b973b",
   "metadata": {},
   "outputs": [],
   "source": [
    "stacked_model = StackingRegressor(\n",
    "    estimators=[('xgb', best_xgb)],\n",
    "    final_estimator=XGBRegressor(n_estimators=100, learning_rate=0.05, max_depth=3, random_state=42)\n",
    ")\n"
   ]
  },
  {
   "cell_type": "code",
   "execution_count": 34,
   "id": "e1d406a4",
   "metadata": {},
   "outputs": [],
   "source": [
    "stacked_model.fit(X_train, y_train)\n",
    "y_pred_stack = stacked_model.predict(X_test)\n"
   ]
  },
  {
   "cell_type": "code",
   "execution_count": 35,
   "id": "9c0944a8",
   "metadata": {},
   "outputs": [
    {
     "name": "stderr",
     "output_type": "stream",
     "text": [
      "C:\\Users\\hp\\AppData\\Roaming\\Python\\Python311\\site-packages\\keras\\src\\layers\\core\\dense.py:87: UserWarning: Do not pass an `input_shape`/`input_dim` argument to a layer. When using Sequential models, prefer using an `Input(shape)` object as the first layer in the model instead.\n",
      "  super().__init__(activity_regularizer=activity_regularizer, **kwargs)\n"
     ]
    },
    {
     "name": "stdout",
     "output_type": "stream",
     "text": [
      "Epoch 1/100\n",
      "\u001b[1m1014/1014\u001b[0m \u001b[32m━━━━━━━━━━━━━━━━━━━━\u001b[0m\u001b[37m\u001b[0m \u001b[1m14s\u001b[0m 7ms/step - loss: 70478.6797 - mae: 158.3644 - val_loss: 598.8766 - val_mae: 19.0012 - learning_rate: 0.0100\n",
      "Epoch 2/100\n",
      "\u001b[1m1014/1014\u001b[0m \u001b[32m━━━━━━━━━━━━━━━━━━━━\u001b[0m\u001b[37m\u001b[0m \u001b[1m6s\u001b[0m 6ms/step - loss: 6028.4458 - mae: 57.0828 - val_loss: 2019.0251 - val_mae: 38.5733 - learning_rate: 0.0100\n",
      "Epoch 3/100\n",
      "\u001b[1m1014/1014\u001b[0m \u001b[32m━━━━━━━━━━━━━━━━━━━━\u001b[0m\u001b[37m\u001b[0m \u001b[1m7s\u001b[0m 6ms/step - loss: 5071.7007 - mae: 52.6691 - val_loss: 271.0539 - val_mae: 12.7028 - learning_rate: 0.0100\n",
      "Epoch 4/100\n",
      "\u001b[1m1014/1014\u001b[0m \u001b[32m━━━━━━━━━━━━━━━━━━━━\u001b[0m\u001b[37m\u001b[0m \u001b[1m6s\u001b[0m 6ms/step - loss: 4138.8594 - mae: 47.5535 - val_loss: 585.5790 - val_mae: 19.8972 - learning_rate: 0.0100\n",
      "Epoch 5/100\n",
      "\u001b[1m1014/1014\u001b[0m \u001b[32m━━━━━━━━━━━━━━━━━━━━\u001b[0m\u001b[37m\u001b[0m \u001b[1m7s\u001b[0m 7ms/step - loss: 3854.3059 - mae: 46.0893 - val_loss: 373.4620 - val_mae: 16.0468 - learning_rate: 0.0100\n",
      "Epoch 6/100\n",
      "\u001b[1m1014/1014\u001b[0m \u001b[32m━━━━━━━━━━━━━━━━━━━━\u001b[0m\u001b[37m\u001b[0m \u001b[1m7s\u001b[0m 7ms/step - loss: 3193.8464 - mae: 41.5540 - val_loss: 1027.3097 - val_mae: 26.6331 - learning_rate: 0.0100\n",
      "Epoch 7/100\n",
      "\u001b[1m1014/1014\u001b[0m \u001b[32m━━━━━━━━━━━━━━━━━━━━\u001b[0m\u001b[37m\u001b[0m \u001b[1m7s\u001b[0m 7ms/step - loss: 2783.3252 - mae: 39.1976 - val_loss: 3828.6321 - val_mae: 46.3793 - learning_rate: 0.0100\n",
      "Epoch 8/100\n",
      "\u001b[1m1014/1014\u001b[0m \u001b[32m━━━━━━━━━━━━━━━━━━━━\u001b[0m\u001b[37m\u001b[0m \u001b[1m10s\u001b[0m 6ms/step - loss: 2414.2249 - mae: 36.5750 - val_loss: 886.1548 - val_mae: 23.2619 - learning_rate: 0.0100\n",
      "Epoch 9/100\n",
      "\u001b[1m1014/1014\u001b[0m \u001b[32m━━━━━━━━━━━━━━━━━━━━\u001b[0m\u001b[37m\u001b[0m \u001b[1m6s\u001b[0m 6ms/step - loss: 2029.0757 - mae: 33.6417 - val_loss: 1509.8494 - val_mae: 24.3795 - learning_rate: 0.0020\n",
      "Epoch 10/100\n",
      "\u001b[1m1014/1014\u001b[0m \u001b[32m━━━━━━━━━━━━━━━━━━━━\u001b[0m\u001b[37m\u001b[0m \u001b[1m10s\u001b[0m 6ms/step - loss: 1825.7513 - mae: 31.7543 - val_loss: 1512.2449 - val_mae: 23.5396 - learning_rate: 0.0020\n",
      "Epoch 11/100\n",
      "\u001b[1m1014/1014\u001b[0m \u001b[32m━━━━━━━━━━━━━━━━━━━━\u001b[0m\u001b[37m\u001b[0m \u001b[1m10s\u001b[0m 6ms/step - loss: 1667.8972 - mae: 30.3082 - val_loss: 1812.3590 - val_mae: 24.5487 - learning_rate: 0.0020\n",
      "Epoch 12/100\n",
      "\u001b[1m1014/1014\u001b[0m \u001b[32m━━━━━━━━━━━━━━━━━━━━\u001b[0m\u001b[37m\u001b[0m \u001b[1m11s\u001b[0m 6ms/step - loss: 1653.5017 - mae: 29.9310 - val_loss: 1603.6332 - val_mae: 23.1365 - learning_rate: 0.0020\n",
      "Epoch 13/100\n",
      "\u001b[1m1014/1014\u001b[0m \u001b[32m━━━━━━━━━━━━━━━━━━━━\u001b[0m\u001b[37m\u001b[0m \u001b[1m7s\u001b[0m 6ms/step - loss: 1580.4553 - mae: 29.5806 - val_loss: 2848.6819 - val_mae: 31.8422 - learning_rate: 0.0020\n",
      "\u001b[1m254/254\u001b[0m \u001b[32m━━━━━━━━━━━━━━━━━━━━\u001b[0m\u001b[37m\u001b[0m \u001b[1m1s\u001b[0m 4ms/step\n"
     ]
    }
   ],
   "source": [
    "def build_nn():\n",
    "    model = Sequential([\n",
    "        Dense(128, activation='relu', kernel_regularizer=l2(0.001), input_shape=(X_train.shape[1],)),\n",
    "        BatchNormalization(),\n",
    "        Dropout(0.3),\n",
    "        Dense(64, activation='relu', kernel_regularizer=l2(0.001)),\n",
    "        BatchNormalization(),\n",
    "        Dropout(0.3),\n",
    "        Dense(32, activation='relu', kernel_regularizer=l2(0.001)),\n",
    "        Dense(1)\n",
    "    ])\n",
    "    model.compile(optimizer=Adam(learning_rate=0.01), loss='mse', metrics=['mae'])\n",
    "    return model\n",
    "\n",
    "nn_model = build_nn()\n",
    "nn_callbacks = [\n",
    "    ReduceLROnPlateau(monitor='val_loss', factor=0.2, patience=5, min_lr=1e-5),\n",
    "    EarlyStopping(monitor='val_loss', patience=10, restore_best_weights=True)\n",
    "]\n",
    "nn_model.fit(X_train, y_train, validation_data=(X_test, y_test), epochs=100, batch_size=32, verbose=1, callbacks=nn_callbacks)\n",
    "\n",
    "y_pred_nn = nn_model.predict(X_test).flatten()\n"
   ]
  },
  {
   "cell_type": "code",
   "execution_count": 36,
   "id": "5ddbdfac",
   "metadata": {},
   "outputs": [
    {
     "name": "stdout",
     "output_type": "stream",
     "text": [
      "\n",
      " Optimized XGBoost Performance:\n",
      "R² Score: 1.0000\n",
      "MAE: 0.0001\n",
      "RMSE: 0.0002\n",
      "\n",
      " Stacking Model Performance:\n",
      "R² Score: 0.9998\n",
      "MAE: 2.4876\n",
      "RMSE: 4.5378\n",
      "\n",
      " Neural Network Performance:\n",
      "R² Score: 0.9974\n",
      "MAE: 12.7028\n",
      "RMSE: 16.3566\n"
     ]
    }
   ],
   "source": [
    "def evaluate_model(name, y_true, y_pred):\n",
    "    r2 = r2_score(y_true, y_pred)\n",
    "    mae = mean_absolute_error(y_true, y_pred)\n",
    "    rmse = np.sqrt(mean_squared_error(y_true, y_pred))\n",
    "    # classification__report = classification_report(y_true,y_pred)\n",
    "    # confusion__matrix = confusion_matrix(y_true,y_pred)\n",
    "    print(f\"\\n {name} Performance:\")\n",
    "    print(f\"R² Score: {r2:.4f}\")\n",
    "    print(f\"MAE: {mae:.4f}\")\n",
    "    print(f\"RMSE: {rmse:.4f}\")\n",
    "    \n",
    "evaluate_model(\"Optimized XGBoost\", y_test, y_pred_xgb)\n",
    "evaluate_model(\"Stacking Model\", y_test, y_pred_stack)\n",
    "evaluate_model(\"Neural Network\", y_test, y_pred_nn)"
   ]
  },
  {
   "cell_type": "code",
   "execution_count": 37,
   "id": "58094c23",
   "metadata": {
    "scrolled": false
   },
   "outputs": [
    {
     "name": "stdout",
     "output_type": "stream",
     "text": [
      "Epoch 1/200\n",
      "\u001b[1m1014/1014\u001b[0m \u001b[32m━━━━━━━━━━━━━━━━━━━━\u001b[0m\u001b[37m\u001b[0m \u001b[1m16s\u001b[0m 8ms/step - loss: 138996.6094 - mae: 267.9879 - val_loss: 181.3343 - val_mae: 10.8859 - learning_rate: 0.0050\n",
      "Epoch 2/200\n",
      "\u001b[1m1014/1014\u001b[0m \u001b[32m━━━━━━━━━━━━━━━━━━━━\u001b[0m\u001b[37m\u001b[0m \u001b[1m9s\u001b[0m 7ms/step - loss: 4778.8984 - mae: 51.6830 - val_loss: 564.3837 - val_mae: 19.1160 - learning_rate: 0.0050\n",
      "Epoch 3/200\n",
      "\u001b[1m1014/1014\u001b[0m \u001b[32m━━━━━━━━━━━━━━━━━━━━\u001b[0m\u001b[37m\u001b[0m \u001b[1m7s\u001b[0m 7ms/step - loss: 4519.1265 - mae: 50.9700 - val_loss: 444.4127 - val_mae: 16.3198 - learning_rate: 0.0050\n",
      "Epoch 4/200\n",
      "\u001b[1m1014/1014\u001b[0m \u001b[32m━━━━━━━━━━━━━━━━━━━━\u001b[0m\u001b[37m\u001b[0m \u001b[1m7s\u001b[0m 7ms/step - loss: 4124.4863 - mae: 48.6092 - val_loss: 123.5970 - val_mae: 8.9888 - learning_rate: 0.0050\n",
      "Epoch 5/200\n",
      "\u001b[1m1014/1014\u001b[0m \u001b[32m━━━━━━━━━━━━━━━━━━━━\u001b[0m\u001b[37m\u001b[0m \u001b[1m7s\u001b[0m 7ms/step - loss: 3754.1365 - mae: 46.1966 - val_loss: 369.8632 - val_mae: 13.0330 - learning_rate: 0.0050\n",
      "Epoch 6/200\n",
      "\u001b[1m1014/1014\u001b[0m \u001b[32m━━━━━━━━━━━━━━━━━━━━\u001b[0m\u001b[37m\u001b[0m \u001b[1m7s\u001b[0m 7ms/step - loss: 3977.1841 - mae: 47.8191 - val_loss: 142.0020 - val_mae: 9.3049 - learning_rate: 0.0050\n",
      "Epoch 7/200\n",
      "\u001b[1m1014/1014\u001b[0m \u001b[32m━━━━━━━━━━━━━━━━━━━━\u001b[0m\u001b[37m\u001b[0m \u001b[1m10s\u001b[0m 7ms/step - loss: 3590.3284 - mae: 45.6101 - val_loss: 151.6422 - val_mae: 9.9233 - learning_rate: 0.0050\n",
      "Epoch 8/200\n",
      "\u001b[1m1014/1014\u001b[0m \u001b[32m━━━━━━━━━━━━━━━━━━━━\u001b[0m\u001b[37m\u001b[0m \u001b[1m7s\u001b[0m 7ms/step - loss: 3608.7388 - mae: 45.5529 - val_loss: 89.1794 - val_mae: 7.2618 - learning_rate: 0.0050\n",
      "Epoch 9/200\n",
      "\u001b[1m1014/1014\u001b[0m \u001b[32m━━━━━━━━━━━━━━━━━━━━\u001b[0m\u001b[37m\u001b[0m \u001b[1m7s\u001b[0m 7ms/step - loss: 3616.6455 - mae: 46.0527 - val_loss: 150.4358 - val_mae: 9.8044 - learning_rate: 0.0050\n",
      "Epoch 10/200\n",
      "\u001b[1m1014/1014\u001b[0m \u001b[32m━━━━━━━━━━━━━━━━━━━━\u001b[0m\u001b[37m\u001b[0m \u001b[1m7s\u001b[0m 7ms/step - loss: 3457.2061 - mae: 44.8712 - val_loss: 560.3862 - val_mae: 14.8214 - learning_rate: 0.0050\n",
      "Epoch 11/200\n",
      "\u001b[1m1014/1014\u001b[0m \u001b[32m━━━━━━━━━━━━━━━━━━━━\u001b[0m\u001b[37m\u001b[0m \u001b[1m7s\u001b[0m 7ms/step - loss: 3353.1182 - mae: 44.2287 - val_loss: 114.9619 - val_mae: 8.4329 - learning_rate: 0.0050\n",
      "Epoch 12/200\n",
      "\u001b[1m1014/1014\u001b[0m \u001b[32m━━━━━━━━━━━━━━━━━━━━\u001b[0m\u001b[37m\u001b[0m \u001b[1m7s\u001b[0m 7ms/step - loss: 3080.3992 - mae: 41.9505 - val_loss: 182.4424 - val_mae: 10.3484 - learning_rate: 0.0050\n",
      "Epoch 13/200\n",
      "\u001b[1m1014/1014\u001b[0m \u001b[32m━━━━━━━━━━━━━━━━━━━━\u001b[0m\u001b[37m\u001b[0m \u001b[1m7s\u001b[0m 7ms/step - loss: 3081.9521 - mae: 41.9520 - val_loss: 104.3067 - val_mae: 7.6565 - learning_rate: 0.0050\n",
      "Epoch 14/200\n",
      "\u001b[1m1014/1014\u001b[0m \u001b[32m━━━━━━━━━━━━━━━━━━━━\u001b[0m\u001b[37m\u001b[0m \u001b[1m7s\u001b[0m 7ms/step - loss: 2952.3850 - mae: 41.3366 - val_loss: 83.0018 - val_mae: 7.5569 - learning_rate: 1.0000e-03\n",
      "Epoch 15/200\n",
      "\u001b[1m1014/1014\u001b[0m \u001b[32m━━━━━━━━━━━━━━━━━━━━\u001b[0m\u001b[37m\u001b[0m \u001b[1m11s\u001b[0m 7ms/step - loss: 2980.9722 - mae: 41.5134 - val_loss: 67.7595 - val_mae: 6.0205 - learning_rate: 1.0000e-03\n",
      "Epoch 16/200\n",
      "\u001b[1m1014/1014\u001b[0m \u001b[32m━━━━━━━━━━━━━━━━━━━━\u001b[0m\u001b[37m\u001b[0m \u001b[1m7s\u001b[0m 7ms/step - loss: 2900.5293 - mae: 40.9650 - val_loss: 73.9135 - val_mae: 6.8699 - learning_rate: 1.0000e-03\n",
      "Epoch 17/200\n",
      "\u001b[1m1014/1014\u001b[0m \u001b[32m━━━━━━━━━━━━━━━━━━━━\u001b[0m\u001b[37m\u001b[0m \u001b[1m10s\u001b[0m 7ms/step - loss: 3010.0449 - mae: 41.8368 - val_loss: 113.7036 - val_mae: 8.7731 - learning_rate: 1.0000e-03\n",
      "Epoch 18/200\n",
      "\u001b[1m1014/1014\u001b[0m \u001b[32m━━━━━━━━━━━━━━━━━━━━\u001b[0m\u001b[37m\u001b[0m \u001b[1m7s\u001b[0m 7ms/step - loss: 2605.2463 - mae: 38.6814 - val_loss: 140.7882 - val_mae: 9.2237 - learning_rate: 1.0000e-03\n",
      "Epoch 19/200\n",
      "\u001b[1m1014/1014\u001b[0m \u001b[32m━━━━━━━━━━━━━━━━━━━━\u001b[0m\u001b[37m\u001b[0m \u001b[1m10s\u001b[0m 7ms/step - loss: 3150.6179 - mae: 42.4885 - val_loss: 67.0595 - val_mae: 6.4409 - learning_rate: 1.0000e-03\n",
      "Epoch 20/200\n",
      "\u001b[1m1014/1014\u001b[0m \u001b[32m━━━━━━━━━━━━━━━━━━━━\u001b[0m\u001b[37m\u001b[0m \u001b[1m7s\u001b[0m 7ms/step - loss: 3019.2104 - mae: 41.9267 - val_loss: 139.4128 - val_mae: 9.7950 - learning_rate: 1.0000e-03\n",
      "Epoch 21/200\n",
      "\u001b[1m1014/1014\u001b[0m \u001b[32m━━━━━━━━━━━━━━━━━━━━\u001b[0m\u001b[37m\u001b[0m \u001b[1m7s\u001b[0m 7ms/step - loss: 2891.8103 - mae: 41.1356 - val_loss: 187.1137 - val_mae: 11.1108 - learning_rate: 1.0000e-03\n",
      "Epoch 22/200\n",
      "\u001b[1m1014/1014\u001b[0m \u001b[32m━━━━━━━━━━━━━━━━━━━━\u001b[0m\u001b[37m\u001b[0m \u001b[1m7s\u001b[0m 7ms/step - loss: 2847.4653 - mae: 40.3947 - val_loss: 82.1024 - val_mae: 6.2451 - learning_rate: 1.0000e-03\n",
      "Epoch 23/200\n",
      "\u001b[1m1014/1014\u001b[0m \u001b[32m━━━━━━━━━━━━━━━━━━━━\u001b[0m\u001b[37m\u001b[0m \u001b[1m7s\u001b[0m 7ms/step - loss: 3265.8347 - mae: 43.2283 - val_loss: 142.9410 - val_mae: 10.0347 - learning_rate: 1.0000e-03\n",
      "Epoch 24/200\n",
      "\u001b[1m1014/1014\u001b[0m \u001b[32m━━━━━━━━━━━━━━━━━━━━\u001b[0m\u001b[37m\u001b[0m \u001b[1m7s\u001b[0m 7ms/step - loss: 2985.9993 - mae: 41.0503 - val_loss: 59.0220 - val_mae: 6.1274 - learning_rate: 1.0000e-03\n",
      "Epoch 25/200\n",
      "\u001b[1m1014/1014\u001b[0m \u001b[32m━━━━━━━━━━━━━━━━━━━━\u001b[0m\u001b[37m\u001b[0m \u001b[1m7s\u001b[0m 7ms/step - loss: 3089.7063 - mae: 42.2702 - val_loss: 115.6555 - val_mae: 9.0760 - learning_rate: 1.0000e-03\n",
      "Epoch 26/200\n",
      "\u001b[1m1014/1014\u001b[0m \u001b[32m━━━━━━━━━━━━━━━━━━━━\u001b[0m\u001b[37m\u001b[0m \u001b[1m7s\u001b[0m 7ms/step - loss: 2846.3894 - mae: 40.4244 - val_loss: 106.3317 - val_mae: 8.7728 - learning_rate: 1.0000e-03\n",
      "Epoch 27/200\n",
      "\u001b[1m1014/1014\u001b[0m \u001b[32m━━━━━━━━━━━━━━━━━━━━\u001b[0m\u001b[37m\u001b[0m \u001b[1m7s\u001b[0m 7ms/step - loss: 2721.5222 - mae: 39.8959 - val_loss: 96.8316 - val_mae: 8.2126 - learning_rate: 1.0000e-03\n",
      "Epoch 28/200\n",
      "\u001b[1m1014/1014\u001b[0m \u001b[32m━━━━━━━━━━━━━━━━━━━━\u001b[0m\u001b[37m\u001b[0m \u001b[1m8s\u001b[0m 8ms/step - loss: 2983.1375 - mae: 41.6618 - val_loss: 83.7899 - val_mae: 7.8325 - learning_rate: 1.0000e-03\n",
      "Epoch 29/200\n",
      "\u001b[1m1014/1014\u001b[0m \u001b[32m━━━━━━━━━━━━━━━━━━━━\u001b[0m\u001b[37m\u001b[0m \u001b[1m7s\u001b[0m 7ms/step - loss: 3020.8699 - mae: 41.4822 - val_loss: 61.2753 - val_mae: 6.2619 - learning_rate: 1.0000e-03\n",
      "Epoch 30/200\n",
      "\u001b[1m1014/1014\u001b[0m \u001b[32m━━━━━━━━━━━━━━━━━━━━\u001b[0m\u001b[37m\u001b[0m \u001b[1m7s\u001b[0m 7ms/step - loss: 2783.1487 - mae: 39.6951 - val_loss: 68.5340 - val_mae: 6.8398 - learning_rate: 2.0000e-04\n",
      "Epoch 31/200\n",
      "\u001b[1m1014/1014\u001b[0m \u001b[32m━━━━━━━━━━━━━━━━━━━━\u001b[0m\u001b[37m\u001b[0m \u001b[1m7s\u001b[0m 7ms/step - loss: 2783.1797 - mae: 39.7493 - val_loss: 77.2675 - val_mae: 7.4100 - learning_rate: 2.0000e-04\n",
      "Epoch 32/200\n",
      "\u001b[1m1014/1014\u001b[0m \u001b[32m━━━━━━━━━━━━━━━━━━━━\u001b[0m\u001b[37m\u001b[0m \u001b[1m7s\u001b[0m 7ms/step - loss: 2675.7317 - mae: 39.7042 - val_loss: 55.5783 - val_mae: 6.1394 - learning_rate: 2.0000e-04\n",
      "Epoch 33/200\n",
      "\u001b[1m1014/1014\u001b[0m \u001b[32m━━━━━━━━━━━━━━━━━━━━\u001b[0m\u001b[37m\u001b[0m \u001b[1m7s\u001b[0m 7ms/step - loss: 2800.6907 - mae: 39.9378 - val_loss: 74.7888 - val_mae: 7.0588 - learning_rate: 2.0000e-04\n",
      "Epoch 34/200\n",
      "\u001b[1m1014/1014\u001b[0m \u001b[32m━━━━━━━━━━━━━━━━━━━━\u001b[0m\u001b[37m\u001b[0m \u001b[1m7s\u001b[0m 7ms/step - loss: 2948.4731 - mae: 40.8844 - val_loss: 73.4006 - val_mae: 7.2333 - learning_rate: 2.0000e-04\n",
      "Epoch 35/200\n",
      "\u001b[1m1014/1014\u001b[0m \u001b[32m━━━━━━━━━━━━━━━━━━━━\u001b[0m\u001b[37m\u001b[0m \u001b[1m7s\u001b[0m 7ms/step - loss: 3045.6736 - mae: 41.2861 - val_loss: 77.0029 - val_mae: 7.4961 - learning_rate: 2.0000e-04\n",
      "Epoch 36/200\n",
      "\u001b[1m1014/1014\u001b[0m \u001b[32m━━━━━━━━━━━━━━━━━━━━\u001b[0m\u001b[37m\u001b[0m \u001b[1m10s\u001b[0m 7ms/step - loss: 2598.2378 - mae: 38.9189 - val_loss: 74.5427 - val_mae: 7.1555 - learning_rate: 2.0000e-04\n",
      "Epoch 37/200\n",
      "\u001b[1m1014/1014\u001b[0m \u001b[32m━━━━━━━━━━━━━━━━━━━━\u001b[0m\u001b[37m\u001b[0m \u001b[1m7s\u001b[0m 7ms/step - loss: 2729.7153 - mae: 39.8330 - val_loss: 71.4952 - val_mae: 6.9807 - learning_rate: 2.0000e-04\n",
      "Epoch 38/200\n",
      "\u001b[1m1014/1014\u001b[0m \u001b[32m━━━━━━━━━━━━━━━━━━━━\u001b[0m\u001b[37m\u001b[0m \u001b[1m7s\u001b[0m 7ms/step - loss: 2730.0515 - mae: 39.9995 - val_loss: 61.5238 - val_mae: 6.3636 - learning_rate: 4.0000e-05\n",
      "Epoch 39/200\n",
      "\u001b[1m1014/1014\u001b[0m \u001b[32m━━━━━━━━━━━━━━━━━━━━\u001b[0m\u001b[37m\u001b[0m \u001b[1m7s\u001b[0m 7ms/step - loss: 2868.6201 - mae: 40.7090 - val_loss: 128.7579 - val_mae: 9.6389 - learning_rate: 4.0000e-05\n",
      "Epoch 40/200\n",
      "\u001b[1m1014/1014\u001b[0m \u001b[32m━━━━━━━━━━━━━━━━━━━━\u001b[0m\u001b[37m\u001b[0m \u001b[1m10s\u001b[0m 7ms/step - loss: 2930.2651 - mae: 41.1477 - val_loss: 113.9898 - val_mae: 9.0865 - learning_rate: 4.0000e-05\n",
      "Epoch 41/200\n",
      "\u001b[1m1014/1014\u001b[0m \u001b[32m━━━━━━━━━━━━━━━━━━━━\u001b[0m\u001b[37m\u001b[0m \u001b[1m7s\u001b[0m 7ms/step - loss: 2743.0847 - mae: 40.0689 - val_loss: 64.8251 - val_mae: 6.3587 - learning_rate: 4.0000e-05\n",
      "Epoch 42/200\n",
      "\u001b[1m1014/1014\u001b[0m \u001b[32m━━━━━━━━━━━━━━━━━━━━\u001b[0m\u001b[37m\u001b[0m \u001b[1m7s\u001b[0m 7ms/step - loss: 3085.2034 - mae: 41.9292 - val_loss: 89.0435 - val_mae: 7.8288 - learning_rate: 4.0000e-05\n",
      "\u001b[1m254/254\u001b[0m \u001b[32m━━━━━━━━━━━━━━━━━━━━\u001b[0m\u001b[37m\u001b[0m \u001b[1m1s\u001b[0m 4ms/step\n"
     ]
    }
   ],
   "source": [
    "from tensorflow.keras.models import Model\n",
    "from tensorflow.keras.layers import Dense, BatchNormalization, Dropout, LeakyReLU, Add, Input\n",
    "from tensorflow.keras.regularizers import l2\n",
    "from tensorflow.keras.optimizers import AdamW\n",
    "from tensorflow.keras.callbacks import ReduceLROnPlateau, EarlyStopping\n",
    "from sklearn.preprocessing import StandardScaler\n",
    "import numpy as np\n",
    "\n",
    "\n",
    "\n",
    "def build_nn():\n",
    "    inputs = Input(shape=(X_train.shape[1],))\n",
    "    x = Dense(128, kernel_regularizer=l2(0.001))(inputs)\n",
    "    x = BatchNormalization()(x)\n",
    "    x = LeakyReLU()(x)\n",
    "    x = Dropout(0.2)(x)\n",
    "\n",
    "    x1 = Dense(64, kernel_regularizer=l2(0.001))(x)\n",
    "    x1 = BatchNormalization()(x1)\n",
    "    x1 = LeakyReLU()(x1)\n",
    "    x1 = Dropout(0.2)(x1)\n",
    "\n",
    "    x2 = Dense(128, kernel_regularizer=l2(0.001))(x1)  # Ensuring same shape as `x`\n",
    "    x2 = BatchNormalization()(x2)\n",
    "    x2 = LeakyReLU()(x2)\n",
    "    x2 = Dropout(0.2)(x2)\n",
    "\n",
    "    # Residual connection (now both are (128,))\n",
    "    x3 = Add()([x, x2])\n",
    "    \n",
    "    outputs = Dense(1)(x3)\n",
    "\n",
    "    model = Model(inputs=inputs, outputs=outputs)\n",
    "    model.compile(optimizer=AdamW(learning_rate=0.005), loss='mse', metrics=['mae'])\n",
    "    return model\n",
    "\n",
    "nn_model = build_nn()\n",
    "nn_callbacks = [\n",
    "    ReduceLROnPlateau(monitor='val_loss', factor=0.2, patience=5, min_lr=1e-5),\n",
    "    EarlyStopping(monitor='val_loss', patience=10, restore_best_weights=True)\n",
    "]\n",
    "\n",
    "nn_model.fit(X_train, y_train, validation_data=(X_test, y_test), \n",
    "             epochs=200, batch_size=32, verbose=1, callbacks=nn_callbacks)\n",
    "\n",
    "y_pred_nn = nn_model.predict(X_test).flatten()\n"
   ]
  },
  {
   "cell_type": "code",
   "execution_count": 38,
   "id": "adce1336",
   "metadata": {},
   "outputs": [
    {
     "name": "stdout",
     "output_type": "stream",
     "text": [
      "\n",
      " Neural Network Performance:\n",
      "R² Score: 0.9995\n",
      "MAE: 6.1394\n",
      "RMSE: 7.0479\n"
     ]
    }
   ],
   "source": [
    "evaluate_model(\"Neural Network\", y_test, y_pred_nn)"
   ]
  },
  {
   "cell_type": "code",
   "execution_count": 45,
   "id": "e4f399ac",
   "metadata": {},
   "outputs": [
    {
     "name": "stdout",
     "output_type": "stream",
     "text": [
      "Defaulting to user installation because normal site-packages is not writeable"
     ]
    },
    {
     "name": "stderr",
     "output_type": "stream",
     "text": [
      "WARNING: Ignoring invalid distribution ~ensorflow-intel (C:\\Users\\hp\\AppData\\Roaming\\Python\\Python311\\site-packages)\n",
      "WARNING: Ignoring invalid distribution ~ensorflow-intel (C:\\Users\\hp\\AppData\\Roaming\\Python\\Python311\\site-packages)\n",
      "WARNING: Ignoring invalid distribution ~ensorflow-intel (C:\\Users\\hp\\AppData\\Roaming\\Python\\Python311\\site-packages)\n",
      "\n",
      "[notice] A new release of pip is available: 24.3.1 -> 25.0.1\n",
      "[notice] To update, run: python.exe -m pip install --upgrade pip\n"
     ]
    },
    {
     "name": "stdout",
     "output_type": "stream",
     "text": [
      "\n",
      "Collecting scikeras\n",
      "  Using cached scikeras-0.13.0-py3-none-any.whl.metadata (3.1 kB)\n",
      "Requirement already satisfied: keras>=3.2.0 in c:\\users\\hp\\appdata\\roaming\\python\\python311\\site-packages (from scikeras) (3.3.3)\n",
      "Requirement already satisfied: scikit-learn>=1.4.2 in c:\\users\\hp\\appdata\\roaming\\python\\python311\\site-packages (from scikeras) (1.5.1)\n",
      "Requirement already satisfied: absl-py in c:\\users\\hp\\appdata\\roaming\\python\\python311\\site-packages (from keras>=3.2.0->scikeras) (2.1.0)\n",
      "Requirement already satisfied: numpy in c:\\programdata\\anaconda3\\lib\\site-packages (from keras>=3.2.0->scikeras) (1.24.3)\n",
      "Requirement already satisfied: rich in c:\\users\\hp\\appdata\\roaming\\python\\python311\\site-packages (from keras>=3.2.0->scikeras) (13.7.1)\n",
      "Requirement already satisfied: namex in c:\\users\\hp\\appdata\\roaming\\python\\python311\\site-packages (from keras>=3.2.0->scikeras) (0.0.8)\n",
      "Requirement already satisfied: h5py in c:\\users\\hp\\appdata\\roaming\\python\\python311\\site-packages (from keras>=3.2.0->scikeras) (3.11.0)\n",
      "Requirement already satisfied: optree in c:\\users\\hp\\appdata\\roaming\\python\\python311\\site-packages (from keras>=3.2.0->scikeras) (0.11.0)\n",
      "Requirement already satisfied: ml-dtypes in c:\\users\\hp\\appdata\\roaming\\python\\python311\\site-packages (from keras>=3.2.0->scikeras) (0.3.2)\n",
      "Requirement already satisfied: scipy>=1.6.0 in c:\\programdata\\anaconda3\\lib\\site-packages (from scikit-learn>=1.4.2->scikeras) (1.10.1)\n",
      "Requirement already satisfied: joblib>=1.2.0 in c:\\programdata\\anaconda3\\lib\\site-packages (from scikit-learn>=1.4.2->scikeras) (1.2.0)\n",
      "Requirement already satisfied: threadpoolctl>=3.1.0 in c:\\users\\hp\\appdata\\roaming\\python\\python311\\site-packages (from scikit-learn>=1.4.2->scikeras) (3.5.0)\n",
      "Requirement already satisfied: typing-extensions>=4.0.0 in c:\\users\\hp\\appdata\\roaming\\python\\python311\\site-packages (from optree->keras>=3.2.0->scikeras) (4.12.2)\n",
      "Requirement already satisfied: markdown-it-py>=2.2.0 in c:\\programdata\\anaconda3\\lib\\site-packages (from rich->keras>=3.2.0->scikeras) (2.2.0)\n",
      "Requirement already satisfied: pygments<3.0.0,>=2.13.0 in c:\\programdata\\anaconda3\\lib\\site-packages (from rich->keras>=3.2.0->scikeras) (2.15.1)\n",
      "Requirement already satisfied: mdurl~=0.1 in c:\\programdata\\anaconda3\\lib\\site-packages (from markdown-it-py>=2.2.0->rich->keras>=3.2.0->scikeras) (0.1.0)\n",
      "Using cached scikeras-0.13.0-py3-none-any.whl (26 kB)\n",
      "Installing collected packages: scikeras\n",
      "Successfully installed scikeras-0.13.0\n"
     ]
    }
   ],
   "source": [
    "!pip install scikeras"
   ]
  },
  {
   "cell_type": "code",
   "execution_count": 47,
   "id": "2cce5bd3",
   "metadata": {},
   "outputs": [
    {
     "name": "stderr",
     "output_type": "stream",
     "text": [
      "C:\\Users\\hp\\AppData\\Roaming\\Python\\Python311\\site-packages\\scikeras\\wrappers.py:925: UserWarning: ``build_fn`` will be renamed to ``model`` in a future release, at which point use of ``build_fn`` will raise an Error instead.\n",
      "  X, y = self._initialize(X, y)\n",
      "C:\\Users\\hp\\AppData\\Roaming\\Python\\Python311\\site-packages\\scikeras\\wrappers.py:925: UserWarning: ``build_fn`` will be renamed to ``model`` in a future release, at which point use of ``build_fn`` will raise an Error instead.\n",
      "  X, y = self._initialize(X, y)\n",
      "C:\\Users\\hp\\AppData\\Roaming\\Python\\Python311\\site-packages\\scikeras\\wrappers.py:925: UserWarning: ``build_fn`` will be renamed to ``model`` in a future release, at which point use of ``build_fn`` will raise an Error instead.\n",
      "  X, y = self._initialize(X, y)\n",
      "C:\\Users\\hp\\AppData\\Roaming\\Python\\Python311\\site-packages\\scikeras\\wrappers.py:925: UserWarning: ``build_fn`` will be renamed to ``model`` in a future release, at which point use of ``build_fn`` will raise an Error instead.\n",
      "  X, y = self._initialize(X, y)\n",
      "C:\\Users\\hp\\AppData\\Roaming\\Python\\Python311\\site-packages\\scikeras\\wrappers.py:925: UserWarning: ``build_fn`` will be renamed to ``model`` in a future release, at which point use of ``build_fn`` will raise an Error instead.\n",
      "  X, y = self._initialize(X, y)\n",
      "C:\\Users\\hp\\AppData\\Roaming\\Python\\Python311\\site-packages\\scikeras\\wrappers.py:925: UserWarning: ``build_fn`` will be renamed to ``model`` in a future release, at which point use of ``build_fn`` will raise an Error instead.\n",
      "  X, y = self._initialize(X, y)\n"
     ]
    }
   ],
   "source": [
    "from sklearn.ensemble import StackingRegressor\n",
    "from scikeras.wrappers import KerasRegressor  # Corrected import\n",
    "\n",
    "def build_nn_wrapper():\n",
    "    return build_nn()\n",
    "\n",
    "nn_wrapper = KerasRegressor(build_fn=build_nn_wrapper, epochs=100, batch_size=32, verbose=0)\n",
    "\n",
    "stacked_model = StackingRegressor(\n",
    "    estimators=[('xgb', best_xgb), ('nn', nn_wrapper)],\n",
    "    final_estimator=XGBRegressor(n_estimators=100, learning_rate=0.05, max_depth=3, random_state=42)\n",
    ")\n",
    "\n",
    "stacked_model.fit(X_train, y_train)\n",
    "y_pred_stacked = stacked_model.predict(X_test)\n",
    "\n"
   ]
  },
  {
   "cell_type": "code",
   "execution_count": 48,
   "id": "f8161bb5",
   "metadata": {},
   "outputs": [
    {
     "name": "stdout",
     "output_type": "stream",
     "text": [
      "\n",
      " Neural Network Performance:\n",
      "R² Score: 0.9999\n",
      "MAE: 2.3916\n",
      "RMSE: 3.6301\n"
     ]
    }
   ],
   "source": [
    "evaluate_model(\"Sta\", y_test, y_pred_stacked)"
   ]
  },
  {
   "cell_type": "code",
   "execution_count": null,
   "id": "373de78d",
   "metadata": {},
   "outputs": [],
   "source": []
  }
 ],
 "metadata": {
  "kernelspec": {
   "display_name": "Python 3 (ipykernel)",
   "language": "python",
   "name": "python3"
  },
  "language_info": {
   "codemirror_mode": {
    "name": "ipython",
    "version": 3
   },
   "file_extension": ".py",
   "mimetype": "text/x-python",
   "name": "python",
   "nbconvert_exporter": "python",
   "pygments_lexer": "ipython3",
   "version": "3.11.4"
  }
 },
 "nbformat": 4,
 "nbformat_minor": 5
}
